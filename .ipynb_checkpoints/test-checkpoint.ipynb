{
 "cells": [
  {
   "cell_type": "markdown",
   "id": "e1bfa0fd-a1a9-4f1d-9ee9-b8d04b1e49e2",
   "metadata": {},
   "source": [
    "* Bonos\n",
    "* Duración convexidad\n",
    "* CAPM\n",
    "* Acciones\n",
    "  Rendimientos acumulados\n",
    "  Correlación entre activos y fondos con los retornos!(por separado)\n",
    "  "
   ]
  },
  {
   "cell_type": "code",
   "execution_count": 7,
   "id": "2e51f57d-0240-4f73-9e20-bf840de5d027",
   "metadata": {},
   "outputs": [],
   "source": [
    "import yfinance as yf"
   ]
  },
  {
   "cell_type": "code",
   "execution_count": 8,
   "id": "f9f1338a-f294-4781-908b-e4b878b1d219",
   "metadata": {},
   "outputs": [],
   "source": [
    "stock = yf.Ticker('TLSA')"
   ]
  },
  {
   "cell_type": "code",
   "execution_count": 9,
   "id": "a463caf6-772b-4372-9142-58fceccb14dc",
   "metadata": {},
   "outputs": [
    {
     "name": "stderr",
     "output_type": "stream",
     "text": [
      "[*********************100%%**********************]  1 of 1 completed\n"
     ]
    }
   ],
   "source": [
    "his = yf.download('TLSA')"
   ]
  },
  {
   "cell_type": "code",
   "execution_count": 12,
   "id": "bb8c1675-2d49-4b47-a02f-f22c4bc476ba",
   "metadata": {},
   "outputs": [],
   "source": [
    "close = his['Close']"
   ]
  },
  {
   "cell_type": "code",
   "execution_count": 13,
   "id": "1f580826-0381-4481-ac2f-7a47fda6c096",
   "metadata": {},
   "outputs": [
    {
     "data": {
      "text/plain": [
       "Date\n",
       "2018-11-20         NaN\n",
       "2018-11-21    0.268264\n",
       "2018-11-23   -0.074599\n",
       "2018-11-26   -0.144898\n",
       "2018-11-27    0.069212\n",
       "                ...   \n",
       "2024-02-07   -0.019231\n",
       "2024-02-08    0.019608\n",
       "2024-02-09    0.000000\n",
       "2024-02-12    0.019231\n",
       "2024-02-13   -0.028302\n",
       "Name: Close, Length: 1315, dtype: float64"
      ]
     },
     "execution_count": 13,
     "metadata": {},
     "output_type": "execute_result"
    }
   ],
   "source": [
    "close.pct_change()"
   ]
  },
  {
   "cell_type": "code",
   "execution_count": 14,
   "id": "e6d9a78a-aa16-469a-af2f-2bba300d4abe",
   "metadata": {},
   "outputs": [
    {
     "name": "stderr",
     "output_type": "stream",
     "text": [
      "2024-02-13 16:01:22.333 \n",
      "  \u001b[33m\u001b[1mWarning:\u001b[0m to view this Streamlit app on a browser, run it with the following\n",
      "  command:\n",
      "\n",
      "    streamlit run /home/sebastian/miniconda3/envs/DeFi/lib/python3.11/site-packages/ipykernel_launcher.py [ARGUMENTS]\n"
     ]
    },
    {
     "data": {
      "text/plain": [
       "DeltaGenerator()"
      ]
     },
     "execution_count": 14,
     "metadata": {},
     "output_type": "execute_result"
    }
   ],
   "source": [
    "import streamlit as st\n",
    "import pandas as pd\n",
    "import numpy as np\n",
    "import altair as alt\n",
    "\n",
    "chart_data = pd.DataFrame(np.random.randn(20, 3), columns=[\"a\", \"b\", \"c\"])\n",
    "\n",
    "c = (\n",
    "   alt.Chart(chart_data)\n",
    "   .mark_circle()\n",
    "   .encode(x=\"a\", y=\"b\", size=\"c\", color=\"c\", tooltip=[\"a\", \"b\", \"c\"])\n",
    ")\n",
    "\n",
    "st.altair_chart(c, use_container_width=True)"
   ]
  }
 ],
 "metadata": {
  "kernelspec": {
   "display_name": "DeFi",
   "language": "python",
   "name": "defi"
  },
  "language_info": {
   "codemirror_mode": {
    "name": "ipython",
    "version": 3
   },
   "file_extension": ".py",
   "mimetype": "text/x-python",
   "name": "python",
   "nbconvert_exporter": "python",
   "pygments_lexer": "ipython3",
   "version": "3.11.7"
  }
 },
 "nbformat": 4,
 "nbformat_minor": 5
}
